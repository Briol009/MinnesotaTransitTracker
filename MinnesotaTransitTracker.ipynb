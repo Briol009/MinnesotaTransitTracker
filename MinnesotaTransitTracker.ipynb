{
 "cells": [
  {
   "cell_type": "markdown",
   "id": "7425fb7c-7551-4532-9a0a-5f6d5676f44d",
   "metadata": {
    "tags": []
   },
   "source": [
    "# Graduate Final Project: Minnesota Transit Tracker: Real-Time Monitoring for Commuters\n",
    "\n",
    "Laure Briol",
    "\n",
    "",
    "\n",
    "## Description\n",
    "\n",
    "###### The Minnesota Transit Tracker: Real-Time Monitoring for Commuter Map aims to provide riders across Minnesota with real-time tracking capabilities. This project uses live data from public transit APIs and displays the data dynamically on a map interface. The map features the Green and Blue metro transit lines, in addition to tracking buses along their respective routes. The map uses visualizations such as the colors, symbols, and a legend to enhance the user experience. My experience in government has shown a real need for live interactive maps, as this makes planning and understanding transit much easier.\n",
    "\n",
    "###### In terms of technical implementation, asyncio and aiohttp are utilized for asynchronous data fetching, ensuring efficient real-time updates without affecting the responsiveness of the map interface. GeoJSON data is employed to represent train lines, bus routes, and vehicle markers on the map, providing a geospatial context to the transit data. The integration of ipyleaflet allows for the creation of an interactive map interface, complete with layers for train lines, bus routes, vehicle markers, and additional map controls such as scale and popups."
   ]
  },
  {
   "cell_type": "markdown",
   "id": "503c4d3c-7c23-43b4-bd2b-01236c2c5e3d",
   "metadata": {},
   "source": [
    "## Problem Statement\n",
    "\n",
    "###### Many existing transit maps do not provide real-time data integration or do not provide the visual representation of a real time map. A significant number of transit maps are static or provide live updates-- but with no visualizations. Commuters will hopefully be able to understand the transit systems better and have a better experience with Minnesota's public transit systems. Officials can leverage real-time traffic maps to optimize transit operations by adjusting bus routes according to traffic conditions. They can also track buses in service, monitor train station activity to identify peak times, and provide crucial information to both drivers and passengers using this map."
   ]
  },
  {
   "cell_type": "markdown",
   "id": "d03c8e36-f7f6-4049-bb7b-77828c84891c",
   "metadata": {},
   "source": [
    "# Installations"
   ]
  },
  {
   "cell_type": "code",
   "execution_count": 1,
   "id": "bb2a4eb4-ef0c-4952-a6b6-9e53b5104771",
   "metadata": {},
   "outputs": [
    {
     "name": "stdout",
     "output_type": "stream",
     "text": [
      "Defaulting to user installation because normal site-packages is not writeable\n",
      "Requirement already satisfied: aiohttp in c:\\users\\logan\\appdata\\roaming\\python\\python311\\site-packages (3.9.3)\n",
      "Requirement already satisfied: aiosignal>=1.1.2 in c:\\users\\logan\\appdata\\roaming\\python\\python311\\site-packages (from aiohttp) (1.3.1)\n",
      "Requirement already satisfied: attrs>=17.3.0 in c:\\users\\logan\\appdata\\roaming\\python\\python311\\site-packages (from aiohttp) (23.2.0)\n",
      "Requirement already satisfied: frozenlist>=1.1.1 in c:\\users\\logan\\appdata\\roaming\\python\\python311\\site-packages (from aiohttp) (1.4.1)\n",
      "Requirement already satisfied: multidict<7.0,>=4.5 in c:\\users\\logan\\appdata\\roaming\\python\\python311\\site-packages (from aiohttp) (6.0.5)\n",
      "Requirement already satisfied: yarl<2.0,>=1.0 in c:\\users\\logan\\appdata\\roaming\\python\\python311\\site-packages (from aiohttp) (1.9.4)\n",
      "Requirement already satisfied: idna>=2.0 in c:\\users\\logan\\appdata\\roaming\\python\\python311\\site-packages (from yarl<2.0,>=1.0->aiohttp) (3.6)\n"
     ]
    }
   ],
   "source": [
    "!pip install aiohttp"
   ]
  },
  {
   "cell_type": "markdown",
   "id": "a5cd260a-eb15-4c9e-87b7-e5324ba0a379",
   "metadata": {},
   "source": [
    "## Import Statements"
   ]
  },
  {
   "cell_type": "code",
   "execution_count": 2,
   "id": "7f965c0a-de46-40af-ab4e-731f590f7870",
   "metadata": {},
   "outputs": [],
   "source": [
    "import asyncio\n",
    "import aiohttp\n",
    "import os\n",
    "import geopandas as gpd\n",
    "from ipyleaflet import Map, Marker, AwesomeIcon as Icon, LayerGroup, GeoJSON, ScaleControl, Popup\n",
    "from ipywidgets import Button, HTML, VBox, Text, Output, HBox\n",
    "import requests"
   ]
  },
  {
   "cell_type": "markdown",
   "id": "ef23ce70-0f69-4ddc-83d3-5634b4a157be",
   "metadata": {},
   "source": [
    "## File Path"
   ]
  },
  {
   "cell_type": "code",
   "execution_count": 3,
   "id": "2a5b7a43-7857-4e97-acd6-06e336e59cdb",
   "metadata": {},
   "outputs": [],
   "source": [
    "#checks file path before running code\n",
    "#print(os.getcwd())\n",
    "#defining URLs for transit data\n",
    "#API URLs for train lines provided by this website: https://gisdata.mn.gov/dataset/us-mn-state-metc-trans-transit-routes\n",
    "green_line_api = 'https://svc.metrotransit.org/nextrip/vehicles/902'\n",
    "blue_line_api = 'https://svc.metrotransit.org/nextrip/vehicles/901'\n",
    "#API URL for routing\n",
    "bus_api = 'https://svc.metrotransit.org/nextrip/routes'\n",
    "#load shapefiles for train lines and bus routes\n",
    "green_line_shapefile = 'Lines/green_line.shp'\n",
    "blue_line_shapefile = 'Lines/blue_line.shp'\n",
    "transit_routes_shapefile = 'Lines/TransitRoutes.shp'"
   ]
  },
  {
   "cell_type": "markdown",
   "id": "755aefcf-5110-41d4-9bb2-628765a4f1f9",
   "metadata": {},
   "source": [
    "## Data Processing and Data Fetching"
   ]
  },
  {
   "cell_type": "code",
   "execution_count": 4,
   "id": "42c5efd7-293d-4ca7-be4e-9995f94466b4",
   "metadata": {},
   "outputs": [],
   "source": [
    "#define dictionaries to control data fetching/update for train lines and bus\n",
    "#starts as False as nothing is updating yet\n",
    "continue_update_train_green = {'value': False}\n",
    "continue_update_train_blue = {'value': False}\n",
    "continue_update_bus = {'value': False}"
   ]
  },
  {
   "cell_type": "code",
   "execution_count": 5,
   "id": "47a6f5bf-dff2-4792-8cfb-504888cea3fb",
   "metadata": {},
   "outputs": [],
   "source": [
    "#define functions for fetching and displaying real-time transit data\n",
    "#async function: used for live updating, calls api, gets each vehicle (each bus on the line), places a marker for each vehicle\n",
    "#setting up the function and parameters (api_url, markers, icon_color, continue_update, vehicle_type='train')\n",
    "    #continue_update: tells to start/stop updating\n",
    "    #vehicle_type: train or bus (defaults to train (type=train))\n",
    "async def fetch_and_display_data(api_url, markers, icon_color, continue_update, vehicle_type='train'):\n",
    "    async with aiohttp.ClientSession() as session:\n",
    "        #as long as its told to continue updating-- it continues to update\n",
    "        while continue_update['value']:\n",
    "            async with session.get(api_url) as response:\n",
    "                #200 is good response from an api\n",
    "                if response.status == 200:\n",
    "                    #waits until response is good and then turns response into json\n",
    "                    data = await response.json()\n",
    "                    #removes old not updated markers\n",
    "                    markers.clear_layers()\n",
    "                    #data is a list of each vehicle (train/bus) and then add marker for each train/bus (row by row)\n",
    "                    for vehicle in data:\n",
    "                        latitude = vehicle['latitude']\n",
    "                        longitude = vehicle['longitude']\n",
    "                        icon = Icon(\n",
    "                            name=vehicle_type,\n",
    "                            marker_color=icon_color,\n",
    "                            icon_color='white',\n",
    "                            spin=False\n",
    "                        )\n",
    "                        #marker appears\n",
    "                        marker = Marker(location=(latitude, longitude), draggable=False, icon=icon)\n",
    "                        markers.add_layer(marker)\n",
    "                else:\n",
    "                    #failed to display marker or response is not == 200\n",
    "                    print(\"Failed to retrieve data:\", response.status)\n",
    "                #wait ten seconds (as api does not update faster than this)\n",
    "                await asyncio.sleep(10)\n",
    "#starts data collection\n",
    "async def start_fetching(api_url, markers, icon_color, continue_update, vehicle_type):\n",
    "    #calls dictionary  and sets value to true\n",
    "        #continue_update_train_green = {'value': False}\n",
    "        #continue_update_train_blue = {'value': False}\n",
    "        #continue_update_bus = {'value': False}\n",
    "    continue_update['value'] = True\n",
    "    #calls function fetch_and_display_data when ready\n",
    "    await fetch_and_display_data(api_url, markers, icon_color, continue_update, vehicle_type)\n",
    "\n",
    "#stops fetching data (sets ['value'] = False)\n",
    "def stop_fetching(continue_update):\n",
    "    continue_update['value'] = False\n",
    "\n",
    "#same as fetch_and_display_data, but for bus routes  \n",
    "async def update_bus_route(b, shapefile_path):\n",
    "    if bus_route_input.value.isdigit():\n",
    "        #reads bus shapefile\n",
    "        gdf_shapefile = gpd.read_file(shapefile_path)\n",
    "        #adds bus as a line\n",
    "        specific_route = gdf_shapefile[gdf_shapefile['route'] == bus_route_input.value]\n",
    "        #empty if no specific route (checks if its not empty)\n",
    "        if not specific_route.empty:\n",
    "            specific_route = specific_route.to_crs(epsg=4326)\n",
    "            route_geojson = specific_route.__geo_interface__\n",
    "\n",
    "            #clear the previous route lines before adding new ones\n",
    "            bus_route_lines.clear_layers()\n",
    "\n",
    "            #add the route as a new layer to bus_route_lines instead of bus_markers\n",
    "            route_layer = GeoJSON(data=route_geojson, style={'color': 'red', 'weight': 2}, name=f'Bus Route {bus_route_input.value}')\n",
    "            bus_route_lines.add_layer(route_layer)\n",
    "            #api call for bus routes\n",
    "            api_url = f'https://svc.metrotransit.org/nextrip/vehicles/{bus_route_input.value}'\n",
    "            if 'task' in globals():\n",
    "                task.cancel()\n",
    "            globals()['task'] = asyncio.create_task(start_fetching(api_url, bus_markers, 'red', continue_update_bus, 'bus'))\n",
    "        else:\n",
    "            print(f\"No route found for ID {bus_route_input.value}.\")\n",
    "    else:\n",
    "        print(\"Please enter a valid bus route number.\")"
   ]
  },
  {
   "cell_type": "markdown",
   "id": "05b6a0d4-baa2-4e29-98c1-0908a14ea6ea",
   "metadata": {},
   "source": [
    "## Visualizations and Interactions"
   ]
  },
  {
   "cell_type": "code",
   "execution_count": 6,
   "id": "ed069a63-2d33-4fce-87c4-cc57579cb6c9",
   "metadata": {},
   "outputs": [],
   "source": [
    "#initialize the map\n",
    "map_center_latitude = 44.9778\n",
    "map_center_longitude = -93.2650\n",
    "m = Map(center=(map_center_latitude, map_center_longitude), zoom=12)\n",
    "#add scale control to the map\n",
    "scale = ScaleControl(position='bottomleft', max_width=100, metric=True, imperial=True)\n",
    "m.add_control(scale)\n",
    "\n",
    "#setup train lines on the map\n",
    "def setup_train_line(line_name, color, shapefile_path, api_url, continue_update):\n",
    "    markers = LayerGroup()\n",
    "    m.add_layer(markers)\n",
    "    #reads train lines shape (opens file)\n",
    "    gdf_shapefile = gpd.read_file(shapefile_path)\n",
    "    gdf_shapefile = gdf_shapefile.to_crs(epsg=4326)\n",
    "    shapefile_geojson = gdf_shapefile.__geo_interface__\n",
    "    #creates train lines\n",
    "    line = GeoJSON(data=shapefile_geojson, style={'color': color, 'weight': 2}, name=f'{line_name} Line')\n",
    "    m.add_layer(line)\n",
    "    #creates sub titles\n",
    "    title = HTML(f'<h3>{line_name} Line</h3>')\n",
    "    #creates buttons\n",
    "    start_button = Button(description='Start Updating')\n",
    "    stop_button = Button(description='Stop Updating')\n",
    "    #makes buttons functional\n",
    "    start_button.on_click(lambda b: asyncio.create_task(start_fetching(api_url, markers, color, continue_update, 'train')))\n",
    "    stop_button.on_click(lambda b: stop_fetching(continue_update))\n",
    "    #displays train line widget set-up\n",
    "    return VBox([title, start_button, stop_button])\n",
    "\n",
    "#bus routes creates text box and can enter a bus route number\n",
    "bus_route_input = Text(\n",
    "    value='',\n",
    "    placeholder='Enter Bus Route Number',\n",
    "    description='Bus Route:',\n",
    "    disabled=False\n",
    ")\n",
    "\n",
    "#creates layer for bus markers\n",
    "bus_markers = LayerGroup()\n",
    "#adds layer to map\n",
    "m.add_layer(bus_markers)\n",
    "#buttons\n",
    "bus_start_button = Button(description='Start Updating Bus')\n",
    "bus_stop_button = Button(description='Stop Updating Bus')\n",
    "#title\n",
    "bus_title = HTML('<h3>Bus Route</h3>')\n",
    "\n",
    "#define legend HTML content for map visualization\n",
    "legend_html_content = \"\"\"\n",
    "<div style='width: 150px; padding: 10px; border: 1px solid gray;'>\n",
    "    <h4>Legend</h4>\n",
    "    <ul style='list-style: none; padding: 0;'>\n",
    "        <li><span style='height: 15px; width: 15px; background-color: green; border-radius: 50%; display: inline-block;'></span> Green Line</li>\n",
    "        <li><span style='height: 15px; width: 15px; background-color: blue; border-radius: 50%; display: inline-block;'></span> Blue Line</li>\n",
    "        <li><span style='height: 15px; width: 15px; background-color: red; border-radius: 50%; display: inline-block;'></span> Bus</li>\n",
    "    </ul>\n",
    "</div>\n",
    "\"\"\"\n",
    "#turns legend into html widget (makes into a file that displays as a box)\n",
    "legend = HTML(legend_html_content)\n",
    "\n",
    "#define functions for interaction and data retrieval\n",
    "#shows all bus routes\n",
    "def show_all_routes(button):\n",
    "    #api bus routes\n",
    "    response = requests.get(bus_api)\n",
    "    #clears not updated bus routes\n",
    "    routes_output.clear_output()\n",
    "    #checks if the response is good\n",
    "    if response.status_code == 200:\n",
    "        #if resposne is good make into a json\n",
    "        routes = response.json()\n",
    "        #makes list of all routes look more user friendly in dash\n",
    "        route_list = [f\"{route['route_label']} : {route['route_id']}\" for route in routes]\n",
    "        routes_str = \"; \".join(route_list)\n",
    "        #prints to the widget window (not in consol)\n",
    "        with routes_output:\n",
    "            print(routes_str)\n",
    "    else:\n",
    "        with routes_output:\n",
    "            print(\"Failed to retrieve routes.\")"
   ]
  },
  {
   "cell_type": "markdown",
   "id": "ed97a69c-6a87-40c1-8459-b71565ff26c4",
   "metadata": {
    "tags": []
   },
   "source": [
    "## Widgets Layout"
   ]
  },
  {
   "cell_type": "code",
   "execution_count": 7,
   "id": "fd327e1b-6478-488e-9cb6-cfe36dfd5242",
   "metadata": {},
   "outputs": [
    {
     "data": {
      "application/vnd.jupyter.widget-view+json": {
       "model_id": "356b8c309df2492391ee518bad310c6a",
       "version_major": 2,
       "version_minor": 0
      },
      "text/plain": [
       "VBox(children=(VBox(children=(HTML(value='<h3>Green Line</h3>'), Button(description='Start Updating', style=Bu…"
      ]
     },
     "metadata": {},
     "output_type": "display_data"
    }
   ],
   "source": [
    "#define widget layout and interactions\n",
    "#output is widget window\n",
    "routes_output = Output()\n",
    "#button\n",
    "show_routes_button = Button(description='Show All Routes')\n",
    "#click on button\n",
    "show_routes_button.on_click(show_all_routes)\n",
    "#calls set_train_line and names line, give the line a color, path, url, and continues to update\n",
    "green_line_widgets = setup_train_line('Green', 'green', green_line_shapefile, green_line_api, continue_update_train_green)\n",
    "blue_line_widgets = setup_train_line('Blue', 'blue', blue_line_shapefile, blue_line_api, continue_update_train_blue)\n",
    "bus_widgets = VBox([bus_title, bus_route_input, bus_start_button, bus_stop_button])\n",
    "#new layer for bus_route_lines (draws bus line)\n",
    "bus_route_lines = LayerGroup()\n",
    "#adds layer to map\n",
    "m.add_layer(bus_route_lines)\n",
    "#buttons\n",
    "bus_start_button.on_click(lambda b: asyncio.create_task(update_bus_route(b, transit_routes_shapefile)))\n",
    "bus_stop_button.on_click(lambda b: stop_fetching(continue_update_bus))\n",
    "#HBox displays next to eachother (bus routes and grey box for legend are side by side)\n",
    "bus_and_legend_layout = HBox([bus_widgets, legend])\n",
    "#title of map\n",
    "map_title = HTML(\n",
    "    value=\"<h2>Interactive Transit Map</h2>\",\n",
    "    placeholder='',\n",
    "    description='',\n",
    ")\n",
    "#displays vertical (blue, green, and bus lines)\n",
    "widgets_layout = VBox([\n",
    "    green_line_widgets, blue_line_widgets, bus_and_legend_layout,\n",
    "    show_routes_button, routes_output, map_title, m\n",
    "])\n",
    "#display the updated layout\n",
    "display(widgets_layout)"
   ]
  },
  {
   "cell_type": "markdown",
   "id": "cefabf91-84d9-4ebc-b154-e3e474927b93",
   "metadata": {},
   "source": [
    "## Challenges\n",
    "\n",
    "###### The challenge for this project was first finding a package that supported real time data fetching (geolocation). Folium would automatically recenter the map, every single time the data was updated, meaning I had to go beyond the scope of the course (used ipyleaflet). Moreover, adding pop-up icons to the map would not be feasible, as they are not static elements. This caused glitches and disrupted the functionality of the real-time tracker. The final challenge arose from the incremental development approach used to build the map. Each stage of implementation, such as adding the Green Line, then the Blue Line, buses, widgets, etc., led to new functionalities working and others breaking. Despite the challenges, this approach was chosen to enhance the code, make the code more efficient (save time computationally), and readable."
   ]
  },
  {
   "cell_type": "markdown",
   "id": "bafcf531-d054-480c-9c83-d80ff51a89f0",
   "metadata": {},
   "source": [
    "## Soulutions\n",
    "\n",
    "###### The next phase of the \"Minnesota Transit Tracker: Real Time Monitoring for Commuters\" project aims to enhance the existing metro transit trip planner. Building upon the current functionalities of this notebook, the upcoming phase will prioritize routes that require the least number of transfers and cover the shortest distance. Additionally, users will have the opportunity to interact with the trip planner by inputting their start and end points, allowing for a more personalized and efficient commuting experience. These enhancements not only improve the usability of the transit system, but also contribute to promoting eco-friendly transportation choices."
   ]
  }
 ],
 "metadata": {
  "kernelspec": {
   "display_name": "Python 3 (ipykernel)",
   "language": "python",
   "name": "python3"
  },
  "language_info": {
   "codemirror_mode": {
    "name": "ipython",
    "version": 3
   },
   "file_extension": ".py",
   "mimetype": "text/x-python",
   "name": "python",
   "nbconvert_exporter": "python",
   "pygments_lexer": "ipython3",
   "version": "3.11.5"
  }
 },
 "nbformat": 4,
 "nbformat_minor": 5
}
